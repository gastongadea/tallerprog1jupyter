{
 "cells": [
  {
   "cell_type": "markdown",
   "metadata": {},
   "source": [
    "# [EXERCISE 1]\n",
    "\n",
    "## Gastón Gadea <ggadea@austral.edu.ar>\n",
    "\n",
    "Una linda foto con mamá en la Austral\n",
    "![Una foto con mamá](mama.jpg)\n"
   ]
  },
  {
   "cell_type": "markdown",
   "metadata": {},
   "source": [
    "---"
   ]
  },
  {
   "cell_type": "markdown",
   "metadata": {},
   "source": [
    "# [EXCERCISE 2]"
   ]
  },
  {
   "cell_type": "code",
   "execution_count": null,
   "metadata": {},
   "outputs": [],
   "source": [
    "#recibe alto y ancho de un rectángulo y devuelve el área\n",
    "def rectangle_area(width, height):\n",
    "    return width*height"
   ]
  },
  {
   "cell_type": "markdown",
   "metadata": {},
   "source": [
    "# [EXERCISE 3]"
   ]
  },
  {
   "cell_type": "code",
   "execution_count": 4,
   "metadata": {
    "scrolled": true
   },
   "outputs": [
    {
     "name": "stdout",
     "output_type": "stream",
     "text": [
      "The area of a rectangle with width 3 and height 4 is 12\n",
      "The area of a rectangle with width 5 and height 10 is 50\n",
      "The area of a rectangle with width 8 and height 2 is 16\n"
     ]
    }
   ],
   "source": [
    "#Calcula el área de 3 rectángulos y muestra el resultado\n",
    "a1=rectangle_area(3,4)\n",
    "a2=rectangle_area(5,10)\n",
    "a3=rectangle_area(8,2)\n",
    "print (f'The area of a rectangle with width 3 and height 4 is {a1}')\n",
    "print (f'The area of a rectangle with width 5 and height 10 is {a2}')\n",
    "print (f'The area of a rectangle with width 8 and height 2 is {a3}')"
   ]
  },
  {
   "cell_type": "code",
   "execution_count": 5,
   "metadata": {},
   "outputs": [],
   "source": [
    "def central_difference(f, x, h):\n",
    "    return (f(x+h)-f(x))/h"
   ]
  },
  {
   "cell_type": "code",
   "execution_count": 16,
   "metadata": {},
   "outputs": [
    {
     "name": "stdout",
     "output_type": "stream",
     "text": [
      "The derivative of f(x) = x^2 at x = 2 using h = 0.1 is 4.100000000000001\n",
      "The derivative of f(x) = x^2 at x = 2 using h = 0.01 is 4.009999999999891\n",
      "The derivative of f(x) = x^2 at x = 2 using h = 0.001 is 4.000999999999699\n"
     ]
    }
   ],
   "source": [
    "# Calcula la derivada aproximada para la función cuadrática en 2, con h 0.1, 0.01 y 0.001\n",
    "def f(x):\n",
    "    return x**2\n",
    "d1=central_difference(f, 2, 0.1)\n",
    "d2=central_difference(f, 2, 0.01)\n",
    "d3=central_difference(f, 2, 0.001)\n",
    "print(f'The derivative of f(x) = x^2 at x = 2 using h = 0.1 is {d1}')\n",
    "print(f'The derivative of f(x) = x^2 at x = 2 using h = 0.01 is {d2}')\n",
    "print(f'The derivative of f(x) = x^2 at x = 2 using h = 0.001 is {d3}')"
   ]
  }
 ],
 "metadata": {
  "kernelspec": {
   "display_name": "Python 3 (ipykernel)",
   "language": "python",
   "name": "python3"
  },
  "language_info": {
   "codemirror_mode": {
    "name": "ipython",
    "version": 3
   },
   "file_extension": ".py",
   "mimetype": "text/x-python",
   "name": "python",
   "nbconvert_exporter": "python",
   "pygments_lexer": "ipython3",
   "version": "3.10.11"
  }
 },
 "nbformat": 4,
 "nbformat_minor": 1
}
